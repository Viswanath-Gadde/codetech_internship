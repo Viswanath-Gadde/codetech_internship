{
 "cells": [
  {
   "cell_type": "code",
   "execution_count": null,
   "id": "b2363a6f-c25b-47b7-ae8f-8ae9c57584d7",
   "metadata": {},
   "outputs": [],
   "source": [
    "# Task 1: ETL Pipeline\n",
    "import pandas as pd\n",
    "from sklearn.preprocessing import StandardScaler\n",
    "from sklearn.impute import SimpleImputer\n",
    "\n",
    "# Extract\n",
    "df = pd.read_csv('your_dataset.csv')  # Replace with actual dataset\n",
    "\n",
    "# Transform\n",
    "imputer = SimpleImputer(strategy='mean')\n",
    "df_imputed = pd.DataFrame(imputer.fit_transform(df.select_dtypes(include=['float64', 'int64'])), \n",
    "                          columns=df.select_dtypes(include=['float64', 'int64']).columns)\n",
    "\n",
    "scaler = StandardScaler()\n",
    "df_scaled = pd.DataFrame(scaler.fit_transform(df_imputed), columns=df_imputed.columns)\n",
    "\n",
    "# Load\n",
    "df_scaled.to_csv('processed_data.csv', index=False)\n",
    "print(\"ETL process completed. File saved as processed_data.csv\")\n"
   ]
  }
 ],
 "metadata": {
  "kernelspec": {
   "display_name": "Python 3 (ipykernel)",
   "language": "python",
   "name": "python3"
  },
  "language_info": {
   "codemirror_mode": {
    "name": "ipython",
    "version": 3
   },
   "file_extension": ".py",
   "mimetype": "text/x-python",
   "name": "python",
   "nbconvert_exporter": "python",
   "pygments_lexer": "ipython3",
   "version": "3.12.4"
  }
 },
 "nbformat": 4,
 "nbformat_minor": 5
}
