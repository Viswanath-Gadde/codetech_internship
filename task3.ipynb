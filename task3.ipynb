{
 "cells": [
  {
   "cell_type": "code",
   "execution_count": null,
   "id": "445e0498-c955-4df7-8f31-187d18ff51a0",
   "metadata": {},
   "outputs": [],
   "source": [
    "# Task 3: Flask App for Model Deployment\n",
    "\n",
    "from flask import Flask, request, jsonify\n",
    "import joblib\n",
    "import numpy as np\n",
    "\n",
    "app = Flask(__name__)\n",
    "\n",
    "# Load model\n",
    "model = joblib.load('model.pkl')  # Train and save your model first\n",
    "\n",
    "@app.route('/predict', methods=['POST'])\n",
    "def predict():\n",
    "    data = request.get_json(force=True)\n",
    "    input_data = np.array(data['features']).reshape(1, -1)\n",
    "    prediction = model.predict(input_data)\n",
    "    return jsonify({'prediction': int(prediction[0])})\n",
    "\n",
    "if __name__ == '__main__':\n",
    "    app.run(debug=True)\n",
    "\n",
    "\n",
    "\n",
    "#Before running this Flask app, ensure that you've trained and saved a model using scikit-learn:\n",
    "\n",
    "python\n",
    "Copy\n",
    "Edit\n",
    "from sklearn.linear_model import LogisticRegression\n",
    "import joblib\n",
    "\n",
    "# Dummy model training\n",
    "X = [[0, 1], [1, 1], [2, 2]]\n",
    "y = [0, 1, 1]\n",
    "\n",
    "model = LogisticRegression()\n",
    "model.fit(X, y)\n",
    "joblib.dump(model, 'model.pkl')"
   ]
  }
 ],
 "metadata": {
  "kernelspec": {
   "display_name": "Python 3 (ipykernel)",
   "language": "python",
   "name": "python3"
  },
  "language_info": {
   "codemirror_mode": {
    "name": "ipython",
    "version": 3
   },
   "file_extension": ".py",
   "mimetype": "text/x-python",
   "name": "python",
   "nbconvert_exporter": "python",
   "pygments_lexer": "ipython3",
   "version": "3.12.4"
  }
 },
 "nbformat": 4,
 "nbformat_minor": 5
}
