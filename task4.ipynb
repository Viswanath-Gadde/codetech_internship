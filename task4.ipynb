{
 "cells": [
  {
   "cell_type": "code",
   "execution_count": null,
   "id": "67a5f2b0-ec0f-45ef-ad57-d04c2499537b",
   "metadata": {},
   "outputs": [],
   "source": [
    "# Task 4: Optimization using PuLP\n",
    "\n",
    "import pulp\n",
    "\n",
    "# Define the problem\n",
    "model = pulp.LpProblem(\"Maximize_Profit\", pulp.LpMaximize)\n",
    "\n",
    "# Decision Variables\n",
    "x = pulp.LpVariable('Product_A', lowBound=0, cat='Integer')\n",
    "y = pulp.LpVariable('Product_B', lowBound=0, cat='Integer')\n",
    "\n",
    "# Objective Function\n",
    "model += 20 * x + 30 * y  # Example: profit per product\n",
    "\n",
    "# Constraints\n",
    "model += 2 * x + y <= 100  # Resource 1\n",
    "model += x + 2 * y <= 80   # Resource 2\n",
    "\n",
    "# Solve\n",
    "model.solve()\n",
    "\n",
    "# Results\n",
    "print(\"Status:\", pulp.LpStatus[model.status])\n",
    "print(\"Produce Product A:\", x.varValue)\n",
    "print(\"Produce Product B:\", y.varValue)\n",
    "print(\"Maximum Profit:\", pulp.value(model.objective))\n"
   ]
  }
 ],
 "metadata": {
  "kernelspec": {
   "display_name": "Python 3 (ipykernel)",
   "language": "python",
   "name": "python3"
  },
  "language_info": {
   "codemirror_mode": {
    "name": "ipython",
    "version": 3
   },
   "file_extension": ".py",
   "mimetype": "text/x-python",
   "name": "python",
   "nbconvert_exporter": "python",
   "pygments_lexer": "ipython3",
   "version": "3.12.4"
  }
 },
 "nbformat": 4,
 "nbformat_minor": 5
}
